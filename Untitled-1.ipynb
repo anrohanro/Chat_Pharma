{
 "cells": [
  {
   "cell_type": "code",
   "execution_count": 1,
   "metadata": {},
   "outputs": [
    {
     "name": "stdout",
     "output_type": "stream",
     "text": [
      "3.11.9 | packaged by conda-forge | (main, Apr 19 2024, 18:27:10) [MSC v.1938 64 bit (AMD64)]\n"
     ]
    }
   ],
   "source": [
    "import sys\n",
    "print(sys.version)"
   ]
  },
  {
   "cell_type": "code",
   "execution_count": 11,
   "metadata": {},
   "outputs": [
    {
     "name": "stdout",
     "output_type": "stream",
     "text": [
      "usage: reinvent [-h] [-f FORMAT] [-d DEV] [-l FILE] [--log-level LEVEL] [-s N]\n",
      "                [--dotenv-filename FILE]\n",
      "                [--enable-rdkit-log-levels LEVEL [LEVEL ...]] [-V]\n",
      "                [FILE]\n",
      "\n",
      "REINVENT: a molecular design tool for de novo design, scaffold hopping,\n",
      "R-group replacement, linker design, molecule optimization, and others\n",
      "\n",
      "positional arguments:\n",
      "  FILE                  Input configuration file with runtime parameters\n",
      "                        (default: None)\n",
      "\n",
      "options:\n",
      "  -h, --help            show this help message and exit\n",
      "  -f FORMAT, --config-format FORMAT\n",
      "                        File format of the configuration file: toml, json\n",
      "                        (default: toml)\n",
      "  -d DEV, --device DEV  Device to run on: cuda, cpu. Overwrites setting in the\n",
      "                        configuration file. (default: None)\n",
      "  -l FILE, --log-filename FILE\n",
      "                        File for logging information, otherwise writes to\n",
      "                        stderr. (default: None)\n",
      "  --log-level LEVEL     Enable this and 'higher' log levels: critical, fatal,\n",
      "                        error, warn, warning, info, debug, notset. (default:\n",
      "                        info)\n",
      "  -s N, --seed N        Sets the random seeds for reproducibility (default:\n",
      "                        None)\n",
      "  --dotenv-filename FILE\n",
      "                        Dotenv file with environment setup needed for some\n",
      "                        scoring components. By default the one from the\n",
      "                        installation directory will be loaded. (default: None)\n",
      "  --enable-rdkit-log-levels LEVEL [LEVEL ...]\n",
      "                        Enable specific RDKit log levels: all, error, warning,\n",
      "                        info, debug. (default: None)\n",
      "  -V, --version         show program's version number and exit\n",
      "\n",
      "REINVENT 4.3.5 (C) AstraZeneca 2017, 2023\n"
     ]
    },
    {
     "name": "stderr",
     "output_type": "stream",
     "text": [
      "2024-07-10 18:20:08.240713: I tensorflow/core/util/port.cc:113] oneDNN custom operations are on. You may see slightly different numerical results due to floating-point round-off errors from different computation orders. To turn them off, set the environment variable `TF_ENABLE_ONEDNN_OPTS=0`.\n",
      "2024-07-10 18:20:09.988397: I tensorflow/core/util/port.cc:113] oneDNN custom operations are on. You may see slightly different numerical results due to floating-point round-off errors from different computation orders. To turn them off, set the environment variable `TF_ENABLE_ONEDNN_OPTS=0`.\n"
     ]
    }
   ],
   "source": [
    "!reinvent --help"
   ]
  },
  {
   "cell_type": "markdown",
   "metadata": {},
   "source": []
  },
  {
   "cell_type": "code",
   "execution_count": 18,
   "metadata": {},
   "outputs": [
    {
     "name": "stderr",
     "output_type": "stream",
     "text": [
      "2024-07-10 18:32:21.014608: I tensorflow/core/util/port.cc:113] oneDNN custom operations are on. You may see slightly different numerical results due to floating-point round-off errors from different computation orders. To turn them off, set the environment variable `TF_ENABLE_ONEDNN_OPTS=0`.\n",
      "2024-07-10 18:32:22.082852: I tensorflow/core/util/port.cc:113] oneDNN custom operations are on. You may see slightly different numerical results due to floating-point round-off errors from different computation orders. To turn them off, set the environment variable `TF_ENABLE_ONEDNN_OPTS=0`.\n"
     ]
    }
   ],
   "source": [
    "!reinvent -l sampling.log sampling.toml"
   ]
  },
  {
   "cell_type": "code",
   "execution_count": 6,
   "metadata": {},
   "outputs": [
    {
     "ename": "KeyError",
     "evalue": "'x-total-results'",
     "output_type": "error",
     "traceback": [
      "\u001b[1;31m---------------------------------------------------------------------------\u001b[0m",
      "\u001b[1;31mKeyError\u001b[0m                                  Traceback (most recent call last)",
      "Cell \u001b[1;32mIn[6], line 27\u001b[0m\n\u001b[0;32m     25\u001b[0m url\u001b[38;5;241m=\u001b[39m\u001b[38;5;124m'\u001b[39m\u001b[38;5;124mhttps://www.uniprot.org/uniprotkb/query=adrenal+hyperplasia\u001b[39m\u001b[38;5;124m'\u001b[39m\n\u001b[0;32m     26\u001b[0m interactions \u001b[38;5;241m=\u001b[39m {}\n\u001b[1;32m---> 27\u001b[0m \u001b[38;5;28;43;01mfor\u001b[39;49;00m\u001b[43m \u001b[49m\u001b[43mbatch\u001b[49m\u001b[43m,\u001b[49m\u001b[43m \u001b[49m\u001b[43mtotal\u001b[49m\u001b[43m \u001b[49m\u001b[38;5;129;43;01min\u001b[39;49;00m\u001b[43m \u001b[49m\u001b[43mget_batch\u001b[49m\u001b[43m(\u001b[49m\u001b[43murl\u001b[49m\u001b[43m)\u001b[49m\u001b[43m:\u001b[49m\n\u001b[0;32m     28\u001b[0m \u001b[43m    \u001b[49m\u001b[38;5;28;43;01mfor\u001b[39;49;00m\u001b[43m \u001b[49m\u001b[43mline\u001b[49m\u001b[43m \u001b[49m\u001b[38;5;129;43;01min\u001b[39;49;00m\u001b[43m \u001b[49m\u001b[43mbatch\u001b[49m\u001b[38;5;241;43m.\u001b[39;49m\u001b[43mtext\u001b[49m\u001b[38;5;241;43m.\u001b[39;49m\u001b[43msplitlines\u001b[49m\u001b[43m(\u001b[49m\u001b[43m)\u001b[49m\u001b[43m[\u001b[49m\u001b[38;5;241;43m1\u001b[39;49m\u001b[43m:\u001b[49m\u001b[43m]\u001b[49m\u001b[43m:\u001b[49m\n\u001b[0;32m     29\u001b[0m \u001b[43m        \u001b[49m\u001b[43mprimaryAccession\u001b[49m\u001b[43m,\u001b[49m\u001b[43m \u001b[49m\u001b[43minteractsWith\u001b[49m\u001b[43m \u001b[49m\u001b[38;5;241;43m=\u001b[39;49m\u001b[43m \u001b[49m\u001b[43mline\u001b[49m\u001b[38;5;241;43m.\u001b[39;49m\u001b[43msplit\u001b[49m\u001b[43m(\u001b[49m\u001b[38;5;124;43m'\u001b[39;49m\u001b[38;5;130;43;01m\\t\u001b[39;49;00m\u001b[38;5;124;43m'\u001b[39;49m\u001b[43m)\u001b[49m\n",
      "Cell \u001b[1;32mIn[6], line 20\u001b[0m, in \u001b[0;36mget_batch\u001b[1;34m(batch_url)\u001b[0m\n\u001b[0;32m     18\u001b[0m response \u001b[38;5;241m=\u001b[39m session\u001b[38;5;241m.\u001b[39mget(batch_url)\n\u001b[0;32m     19\u001b[0m response\u001b[38;5;241m.\u001b[39mraise_for_status()\n\u001b[1;32m---> 20\u001b[0m total \u001b[38;5;241m=\u001b[39m \u001b[43mresponse\u001b[49m\u001b[38;5;241;43m.\u001b[39;49m\u001b[43mheaders\u001b[49m\u001b[43m[\u001b[49m\u001b[38;5;124;43m\"\u001b[39;49m\u001b[38;5;124;43mx-total-results\u001b[39;49m\u001b[38;5;124;43m\"\u001b[39;49m\u001b[43m]\u001b[49m\n\u001b[0;32m     21\u001b[0m \u001b[38;5;28;01myield\u001b[39;00m response, total\n\u001b[0;32m     22\u001b[0m batch_url \u001b[38;5;241m=\u001b[39m get_next_link(response\u001b[38;5;241m.\u001b[39mheaders)\n",
      "File \u001b[1;32mc:\\Users\\Rohan KumarMishra\\anaconda3\\envs\\vllm\\Lib\\site-packages\\requests\\structures.py:52\u001b[0m, in \u001b[0;36mCaseInsensitiveDict.__getitem__\u001b[1;34m(self, key)\u001b[0m\n\u001b[0;32m     51\u001b[0m \u001b[38;5;28;01mdef\u001b[39;00m \u001b[38;5;21m__getitem__\u001b[39m(\u001b[38;5;28mself\u001b[39m, key):\n\u001b[1;32m---> 52\u001b[0m     \u001b[38;5;28;01mreturn\u001b[39;00m \u001b[38;5;28;43mself\u001b[39;49m\u001b[38;5;241;43m.\u001b[39;49m\u001b[43m_store\u001b[49m\u001b[43m[\u001b[49m\u001b[43mkey\u001b[49m\u001b[38;5;241;43m.\u001b[39;49m\u001b[43mlower\u001b[49m\u001b[43m(\u001b[49m\u001b[43m)\u001b[49m\u001b[43m]\u001b[49m[\u001b[38;5;241m1\u001b[39m]\n",
      "\u001b[1;31mKeyError\u001b[0m: 'x-total-results'"
     ]
    }
   ],
   "source": [
    "import requests\n",
    "import re\n",
    "from requests.adapters import HTTPAdapter, Retry\n",
    "\n",
    "re_next_link = re.compile(r'<(.+)>; rel=\"next\"')\n",
    "retries = Retry(total=5, backoff_factor=0.25, status_forcelist=[500, 502, 503, 504])\n",
    "session = requests.Session()\n",
    "session.mount(\"https://\", HTTPAdapter(max_retries=retries))\n",
    "\n",
    "def get_next_link(headers):\n",
    "    if \"Link\" in headers:\n",
    "        match = re_next_link.match(headers[\"Link\"])\n",
    "        if match:\n",
    "            return match.group(1)\n",
    "\n",
    "def get_batch(batch_url):\n",
    "    while batch_url:\n",
    "        response = session.get(batch_url)\n",
    "        response.raise_for_status()\n",
    "        total = response.headers[\"x-total-results\"]\n",
    "        yield response, total\n",
    "        batch_url = get_next_link(response.headers)\n",
    "\n",
    "# url = 'https://rest.uniprot.org/uniprotkb/search?fields=accession%2Ccc_interaction&format=tsv&query=Insulin%20AND%20%28reviewed%3Atrue%29&size=500'\n",
    "url='https://www.uniprot.org/uniprotkb/query=adrenal+hyperplasia'\n",
    "interactions = {}\n",
    "for batch, total in get_batch(url):\n",
    "    for line in batch.text.splitlines()[1:]:\n",
    "        primaryAccession, interactsWith = line.split('\\t')\n",
    "        interactions[primaryAccession] = len(interactsWith.split(';')) if interactsWith else 0\n",
    "    print(f'{len(interactions)} / {total}')"
   ]
  },
  {
   "cell_type": "code",
   "execution_count": 4,
   "metadata": {},
   "outputs": [
    {
     "data": {
      "text/plain": [
       "[('P05067', 466),\n",
       " ('O76024', 463),\n",
       " ('Q9NRD5', 327),\n",
       " ('O14901', 230),\n",
       " ('Q13148', 213),\n",
       " ('P62993', 197),\n",
       " ('O60260', 171),\n",
       " ('P61981', 162),\n",
       " ('O43741', 156),\n",
       " ('P46379', 149)]"
      ]
     },
     "execution_count": 4,
     "metadata": {},
     "output_type": "execute_result"
    }
   ],
   "source": [
    "sorted_interactions = sorted(interactions.items(), key=lambda item: item[1], reverse=True)\n",
    "sorted_interactions[:10]"
   ]
  },
  {
   "cell_type": "code",
   "execution_count": 15,
   "metadata": {},
   "outputs": [
    {
     "name": "stdout",
     "output_type": "stream",
     "text": [
      "Entry\tInteracts with\n",
      "P58012\t\n",
      "O95672\t\n",
      "Q86UP3\t\n",
      "Q9BXS0\tQ9BXS0-3\n",
      "Q04844\t\n",
      "Q07001\t\n",
      "O14813\tP50570-2; O43464; P41219\n",
      "Q9BUF5\tP04792; P42858; O60333-2; Q5S007; O76024\n",
      "P11230\tQ9NWX5\n",
      "P02585\tQ86TI0; P19429; Q6FGX2\n",
      "Q12887\t\n",
      "Q96BW9\tP06744\n",
      "P55201\tP0C0S8; P62805; Q96GN5; Q96MT8-3; Q8NHQ1; Q8WYH8; Q2KHM9; Q8N987; Q8N6Y0; Q9Y2K6\n",
      "A2IDD5\tQ0VD86\n",
      "Q8NCE2\tQ05BL1; Q13625-3\n",
      "Q96JM2\tQ96KQ7\n",
      "P02708\t\n",
      "P23759\tQ9NX04; Q99828; Q8WUE5; Q9NSC5; Q3SYF9; Q96A72\n",
      "Q69YQ0\tQ8N7B9-2; Q14241; Q9BZL4; Q13573; Q15911-2; P15622-3\n",
      "Q9Y215\tP22303; Q96EQ0\n",
      "Q56NI9\tP51114-2; Q08379; Q9NRD5; Q15276\n",
      "Q96D09\tQ969G5; Q9HC52; Q8IYE0; Q8IYR0; Q8N7B9-2; A0A0S2Z6B0; Q9H5Z6-2; O94868-3; Q9NU39; Q8TAE8; Q5SUL5; P42858; Q8TAP4-4; Q8NHZ7; Q8WWB5; Q5JTB6; O43395; Q9UJ41-4; Q96EN9; Q8TCX5; O76064; Q86UD0; Q15047-2; Q9BYH1-5; Q9H788; Q8WXA9; Q969Z0; Q9BQ70; Q5W5X9-3; Q99757; Q9Y2K6; P61981; Q53FD0-2; Q68DK2-5; A0A0S2Z5X4; Q5W150\n",
      "Q9UIW2\t\n",
      "Q5EBL4\tP61006; Q92624; O75425; Q96HA8; Q86T03; Q96IW7; Q9Y228\n",
      "P13349\tX5D778; P29972; Q9NWQ9; Q8IYE1; Q9UKJ5; Q9H0I2; Q9H5Z6-2; Q6QHK4; P41134; Q02535; P16144-2; A6NI15; Q02577; Q8N7B6-2; Q13526; P13631; Q7RTU7; Q96ES7; O75971-2; Q8N8B7-2; Q08117-2; P15622-3; Q8TAU3; Q86XF7; Q96SQ5; Q9Y2P0\n",
      "P19971\tQ14696; Q9H0C1\n",
      "Q16572\tQ9P0B6; Q9GZY8-5; I3L0A0\n",
      "Q5ST30\tQ8IZP0-5; Q9NYB9-2; Q9P2A4; O43639; O60504; Q96DZ9; Q969L2; Q9NYB9; O43639; O60504\n",
      "Q9Y561\tQ9NPI5; P63244; O95405\n",
      "P20711\tP10275\n",
      "Q99958\tQ99958; Q08379; Q9BYR6; Q8N6F8; Q93062; Q86VP1; P14373; Q96IQ6\n",
      "Q9UQ13\t\n",
      "P24468\tQ13485\n",
      "Q6Q0C0\tQ99759; Q9ERK0\n",
      "Q7Z4S6\tQ9Y6D6; Q14678; Q14678-2; Q9Y6D6\n",
      "Q13509\tP54274; P68363; O95185\n",
      "Q13702\tP54253; P42858; Q96CV9; P50454; P37840; P37173\n",
      "O14908\tQ9NZN5; Q9HB19; Q9P0V3; Q03167; P17643; Q8NC06-3; Q9NP61; Q8TBE0; P20849; Q6NZ36-4; Q96GL9; Q06547-2; Q7LGA3-3; Q14005-2; P57682; Q9Y2M5; Q15759; Q9Y266; Q6P4D5-2; Q8WZ73-3; Q969K3; P48443; Q8N488; Q9BY12-3; Q86SQ7-2; Q2NKQ1-4; O75558; O15273; O60830; Q5VYS8-5; Q9H9P5-5; Q96EF9; Q8WUU4; Q8N0Y2-2\n",
      "P55287\t\n",
      "Q5TAT6\t\n",
      "Q9H5I5\t\n",
      "Q9P273\t\n",
      "P07510\tQ15323; P60409; P60410; P60411; Q7Z3S9; Q6UY14-3; A8MQ03; Q15323; O76011; Q07627; Q8IUG1; P60409; P60410; P60411; P60328; P26371; Q9BYQ3; Q99750; P50222; Q7Z3S9; P0DPK4; O43765; Q13596; O43597\n",
      "Q13472\tP54132; Q9H9A7\n",
      "Q93074\tP51693; Q06481; P05067; Q9NPJ6; P37173\n",
      "Q96MF2\tA1A5B0; Q9UIF8-2; P68400; Q96D03; Q14689-6; Q96JC9; Q9H0I2; Q86V42; Q8N9E0; Q86YD7; Q8IZU1; Q92914; P61328-2; O95995; O75420; Q14451-3; Q9UGU5; Q9C086; Q969R5; Q8N8X9; P55081; Q9BU76; Q6ZUT1; Q6ZUT1-2; A0A6Q8PF08; P35268; P32969; P62851; P00441; Q5MJ10; Q5MJ09; Q8N9Q2; Q96MF2; Q15560; Q8WVP5; P26368-2; Q3SXR9; Q8TBK6; Q8N5A5; Q8N5A5-2\n",
      "Q18PE1\tO95967\n",
      "Q8N9I0\tQ96PS8; Q12982; Q9P0B6; O14493; Q96MX0; Q7L5A8; Q9BWH2; P42858; P11215; O43561-2; Q13021; P30301; Q9H115; Q8N138; Q5VZY2; Q01453; Q8IWU4; P78382; Q96G79; P02787; Q9C0I4; Q6UX40; Q8NBD8; Q5TGU0; O75379\n",
      "Q15772\tQ99873; O75031; Q6FHY5; Q9NRD5; Q99873-3\n",
      "Q8IV48\tA9UHW6; Q14493\n",
      "Q14004\tO75909; Q16543; Q07021\n",
      "Q86U42\tP11940; Q13573\n",
      "P25106\tP37288; P61073\n",
      "Q15326\tP36941; Q13114; Q9UKY1; P12978; P03230; P03255\n",
      "Q7LG56\tQ13315; Q00987; O43929; Q9H4P4; Q7LG56; Q00987\n",
      "P82650\t\n",
      "P36776\tP02666; P36776-1\n",
      "Q9GZV3\t\n",
      "P62140\tP35609; P38398; Q9NX63; Q96S65; Q9H175; A8MQ03; Q63ZY3; Q6FHY5; Q8N912; Q96KR7; O60927; A0A0S2Z4Q8; Q8WUF5; Q96I34; Q96T49; Q86WC6; Q6NXS1; O14990; Q9UQK1; Q15435; Q96SB3; Q14684; Q9H788; Q9H0A9-2; Q7Z699; Q05BL1; Q13625-3; O08785; Q76TK5\n",
      "Q9BPX6\tQ8N4Q1; Q8NE86; Q8NE86-1; Q9BPX6; Q8IYU8; Q8NE86-1\n",
      "O00499\tO00499; Q9UBW5; Q9Y2H0; P09467; Q13496; Q8NFH8; Q8TB24; O95219; Q13426; PRO_0000037576 [P27958]; PRO_0000037551 [Q9WMX2]; P10636-7; P10636-8; PRO_0000037576 [P27958]; P01106; P01106\n",
      "O15146\tQ16543; P08238; P62258\n",
      "P22626\tQ13936; O60741; P09651; Q14103; P14866; P14866-1; Q5T7N2; Q96PV0; Q9HA38; P22626-2\n",
      "O75096\tQ9BQB4\n",
      "P63261\tP60709; P63261; P40123; O60826; Q16543; P23528; Q549N0; Q9Y281; P60981; Q08426; P42858; P40692; Q96HA8; Q1KLZ0\n",
      "Q13698\tQ9BWC9; A8MQ03; Q6FHY5; Q86UT5; Q04864-2; Q9H2K2\n",
      "Q9Y4W6\tP42858\n",
      "P60880\tQ16623; Q8IUH5; PRO_0000449622 [P0DTD1]; O14810; P42858; O75558; Q8N4C7; Q16623; Q9BRT2; Q13360-2; P32851\n",
      "Q13496\tO00499; P17661; Q96A65; Q9C0I1; P31001; O70172\n",
      "Q9NYL2\tO75582; P31947; P63104; Q8N184; Q16512; Q6P2D0; Q6ZN57; P13682; Q8N184; Q6AZW8; Q9NQZ8\n",
      "P28329\tQ6H8Q1-8; Q8N302-2; Q9NXL2-1; Q6XD76; Q9UII2; Q8TBE0; Q9UQB8-6; Q9ULD4-2; Q9NSI6-4; Q6P5X5; Q96LL4; P20807-4; O00257-3; Q6ZP82-1; O95674; Q9H3R5; Q8WUX9; Q9H2A9; Q3SX64; Q92782-2; Q14117; O14641; Q658K8; Q6UXG2-3; O00472; Q6NXG1; Q15910-2; Q8IZU1; P15407; P55318; Q06547-3; P23769-2; P23771; Q15486; Q8IV36; Q4VB01; Q53GQ0; P10809; P41134; Q9NZH6; Q8NA54; Q86U28; P17275; Q8N5Z5; Q6P597; P08727; Q14525; Q8IUC2; Q6IAA8; Q14847-2; P27338; Q9GZQ8; Q53S70; Q5JXC2; A0A0A0MR05; Q8NEH6; Q8TCY5; Q6IN84-2; Q96H12; P01106; P41271-2; P14598; Q9GZM8; Q5BJF6-2; Q9H8K7; Q9NR21-5; Q5VU43-8; Q13956; Q5SXH7-1; Q96T60; Q96I34; Q86UA1; Q15311; Q8TBY0; Q04206; P47804-3; Q9H0X6; P62899; Q66K80; Q9BY12-3; Q86SQ7-2; Q7Z6I5; Q496A3; Q7Z698; Q9C004; Q92783-2; Q8N4C7; O75528; Q15814; O15273; Q96A09; Q8WTV1; Q53NU3; Q71RG4-4; Q86WT6-2; Q9Y3Q8; P49459; P11441; Q9H270; P19544-6; Q53FD0-2; Q3KNS6-3\n",
      "Q9UM47\tQ9UM47; P86480; Q9R1P4\n",
      "P22681\tQ8IZP0-2; Q14155; P54253; Q9Y5K6; P46108; P46109; P00533; P55085; P17948; P62993; P08631-2; P42858; Q15811; Q96JA1; P45983; P08581; P04629; P27986; O00459; Q92569; P31947; O14492; Q96B97; O43597; Q9C004; P12931; P43405; P62837; P31946; P62258; P61981; Q04917; P27348; P63104; P43403; P39688; A0A0H3L6J6; F1SDV6; P08487\n",
      "P61978\tQ9NYB9; P07550; P55064; Q9UBB4; O14965; Q5I0X4; Q14011; Q5D0E6; P09172; Q92608; Q96D16; P14136; P62993; P61978; P14866; Q8WVV9; Q00839; P42858; Q8WXH2; Q07666; Q6IPE9; P43243; Q00987; P19404; P29474; Q9Y5E9; Q99873; Q8WWY3; P79522; Q96PU8; Q9Y272; Q96PK6; P98179; Q9BTD8; P38159; P0DJD3; Q15415; Q14D33; P09012; O60504; Q9UQ90; P12931; Q13148; Q9NYB0; P04637; Q9H3D4; P29597; Q01081; Q96MU7; G3V1X1; Q66K41; A0A0S2Z5X4; Q3KQV3; Q8N9J2; Q8V1E7; Q8AZK7; PRO_0000037666 [P29846]; P61978-1; Q8IZP0-5; Q9NYB9-2; P41238; Q9NRW3; Q14011; Q8NE01; Q92608; Q9NVF9; Q9NU39; Q6VB84; P02008; P61978-2; Q8WVV9; Q6NXR0; Q6ZWB6; Q5VWX1; O75525; Q13351; P36507; P43243; Q8IVT4; Q8IVT2; Q9BYD2; Q86VE0; A8MTQ0; Q9NQX5; Q9Y5E9; Q9HCN3; Q8WWY3; P79522; Q96PU8; Q9BTL3; Q86YV0; Q9Y272; Q96PK6; P98179; P38159; P0DJD3-2; Q15415; Q6ZRY4; P78317; Q9UNE2; Q14D33; P09012; O60504; Q9UQ90; P84103; Q13148; Q7RTU1; P07101-3; Q08117-2; P04637; P29597; Q7KZS0; Q96MU7; Q9H9D4; Q8TF50; Q86XF7; A0A0S2Z5X4\n",
      "P0DPK4\tO43184-4; Q6UY14-3; P21549; Q8IZ83; P05187; Q49AR9; P29972; Q7Z3C6-3; P30049; P50895; P18075; Q0VDD7-2; Q9Y2V2; Q8NEC5; Q8TC90; Q04900; Q8N6W0; Q8TCT0; Q9NX63; Q9UKJ5; Q9H2X0; P07510-2; Q8NE01; P27658; Q02930-3; P06850; Q49AN0; P09228; Q9H4G1; Q9NSA3; Q9UBR2; Q08AG9; A8MQ03; Q8NCG7; Q5D0E6-2; P09172; P52824; Q96LJ7; Q9NQL9; Q92608; P21918; Q9NPA0; P00742; O95864-3; A4D161; Q86YD7; Q969U6; O43559; Q9BXU8; Q9ULW2; Q8NEG0; P43220; Q6IB77-2; Q9Y223-2; P09211; Q9GZV7; P69905; P02008; P08631-2; Q03014; P49639; P17482; P31273; P37235; Q96MM6; Q14773-3; P22301; Q9C086; P01308; P05107; P16144-2; P18084; Q15040; Q9ULS6; Q96SI1-2; Q2WGJ6; O60259; Q5T749; P78385; P60014; P60370; P60410; P60411; P59990; P59991; P60328; P60329; Q52LG2; Q3SY46; Q3LI77; Q9BYR9; Q6PEX3; Q9BYQ6; Q9BYR5; Q9BYR3; Q9BYR2; Q6L8G4; Q6L8H2; Q6L8H1; Q6L8G9; P26371; Q9BYQ4; Q9BYQ3; Q9BYQ0; Q5T7P2; Q5T7P3; Q5T752; Q5T753; Q5T754; O14633; Q5TA81; Q5TA82; Q5TA76; Q5T5A8; Q9BYE3; Q5T5B0; Q5TA78; Q5TCM9; Q8IXW0; Q8TBB1; Q6PJG9; Q9Y5Y7; Q8N5G2; O60336; P08582-2; Q14CX5; P00540; Q9NV56; Q9NQ50; Q13330; Q9BW11; P50539-3; Q96JP2; Q86VE0; Q92692-2; Q9NQS3-2; Q14511-2; P48645; Q9NQX5; Q6NSM0; Q9P121-3; Q9HB63; O95897; P32242; Q99571; Q99572; Q15077; Q92824-2; Q9HCN3; A2BDE7; Q96S52; Q494U1-3; P14222; P0CG20; P25786; Q13308; Q8WUK0; P15151; Q9Y2K5; Q8TBN0; O60896; Q9Y272; Q6P9E2; Q86WX3; Q86UN2; Q9BWG6; Q13214-2; Q9C0C4; Q9NUL5-4; O76082; Q9UHI7-3; Q8N370; Q92911; Q9NP91; P49901; Q86W54-2; Q6RVD6; Q9UQ90; Q8IUH8; O43609; Q99469; O75716; Q9BX59; Q9Y4C2-2; Q9BT49; Q08117-2; Q9UIK5; Q86TG1; P0DTL5; Q96KP6; Q63HR2; Q8WVR3; Q8IWZ5; Q12815; O14817; P49638; Q9BRU9; Q9UBK9; Q6EMK4; Q64LD2-2; Q8WTX9; Q15973; Q9P2F9; Q9Y3S2; Q9H9D4; Q96IQ9; Q8TAU3; Q8IYI8; Q9NWS9-2; Q6ZNH5; Q9UK33; Q9P0T4; Q96SQ5; Q5T619; Q499Z4; Q8N393; Q96EG3\n",
      "P60709\tP60709; P63261; P05067; P40123; Q16543; P23528; Q549N0; Q9Y281; P13569; P60981; Q8WTR2; Q08426; P50402; P04626; Q8TCJ0-2; P11142; P83110; P42858; O14950; P14598; P29474; Q92636; Q96HA8; P07737; P78317; P37802; Q9BSI4; P13693; Q7KZS0; Q9UBQ0-2; P63104; P08413; Q8K4J6\n",
      "P04626\tP00519; P42684; P15309; P60709; Q92625; O00213; O75815; Q9HB71; Q16543; Q9NSE2; Q7Z7G1; P46109; Q93034; Q99704; Q8TEW6; Q15075; P98172; P00533; P04626; P21860; Q15303; Q9UJM3; P09769; P06241; O75791; P62993; Q14451; P07900; P08238; P14625; P11021; P46940; P35568; Q08881; P23458; Q14974; Q96JA1; O75367; O75367-3; Q9UQF2; Q13387; P42679; Q9Y316; O43639; Q02297-7; O00750; P27986; O00459; Q92569; P19174; P16885; O95602; Q13882; Q06124; Q05209; Q99952; Q99952-1; P23467; P08575; Q12913; Q15262; Q16827; Q15256; P49792; P20936; O95980; Q9NP31; P29353; P98077; Q92529; Q9H6Q3; O15524; P12931; P42224; P40763; P31948; Q7KZ85; P43405; Q9Y490; Q63HR2; Q68CZ2; Q96D37; P52735; O14980; P62258\n",
      "P50570\tQ8N157; O95817; Q14247; Q8NFF5-2; P62993; Q15811; Q12965; P22392; Q9UNF0; P54646; P47897; O76064; O00560; Q15436; Q9P0V3; Q99962; Q96B97; Q9Y5X1; Q9BUZ4; P57075-2; Q9QPN3; Q9H7C9; Q6PCB6; Q9NP61; Q86TN1; Q9NWX5-2; Q96FT7-4; Q8WXF7; Q9UII2; P54252; Q9UQB8-6; Q9UMX3; Q8WUW1; P83916; Q53EZ4; Q96FZ7; Q9NSE2; Q92478; Q16740; P04141; Q9NR90-2; Q9H816; Q9UHI6; Q14154; Q9H147; Q9UI08-2; Q99504; Q6SJ93; Q9UKA2; Q6P3S6; Q9UHY8; Q9Y261-2; Q6PIV2; P02792; P06241-3; Q9ULV1; Q9H4A5; Q13588; P0C0S5; P68431; P52790; Q8WVV9-3; P09017; P42858; Q6DN90-2; Q8NA54; Q92993; Q92993-2; A1A512; Q3SY46; Q8IUB9; Q3LI72; Q3SYF9; Q8IUC2; Q6DKI2; A2RU56; Q4G0S1; P07948; Q9UI95; Q9UDY8-2; Q99683; Q15759; Q8TDB4; P41218; Q9Y605; O43196-2; Q99457; O76041; Q15466; Q9NPJ8-3; Q16625; Q96CV9-2; Q96FW1; O15460-2; Q99497; Q13113; O14813; P27986-2; P12273; Q96J94; O75626-3; Q15286; P57729; Q96QF0-7; Q9NS23-4; Q9GZR2; Q96D59; Q9BY12-3; Q2NKQ1-4; Q9NQ40; Q12824; Q12824-2; Q16637-3; O60749; Q8WV41; Q05C28; Q7Z6I5; Q7Z698; O75558; Q8N4C7; P37802; O95551; P28347-2; Q10587; Q03403; P21980-2; Q53EQ6-2; Q12888; Q9BUZ4; Q9NX07-2; Q5W5X9-3; P10599; P58304; O00308; Q8NAP3; Q8IUH5; Q05CR2; Q8N895; Q14966-2; Q5TEC3; Q5JTY5; B7Z3E8; Q99KR7\n",
      "P35523\tQ92624; Q9UHD4; Q8IZU0; Q9NQX1-2\n",
      "P26367\tQ8WYK0; Q9NX04; Q9BXS5; O95376; Q8N8Y2; Q8NEY4-2; Q8N9N5-2; Q5TBC7; Q53TS8; Q8IW40; Q16204; Q9Y258; Q00526; Q9UFW8; Q13111; Q96Q77; Q9BW66; P61024; P68400; Q9UI47-2; Q8TB03; P49366; Q96JC9; Q5JVL4; Q8N9N8; P62508-3; Q9Y247; Q8NHY3; O75603; O14893; O95872; Q6ISB3; O14964; Q6NT76; O15347; P07910; Q9NSC5; P49639; P31273; P31274; Q63ZY3; Q96MP8-2; Q9BYQ3; Q9BYQ0; Q6P4E2; Q9C0E8-2; Q17RB8; Q9BS40; Q96S90; Q15691; P55081; Q8TD10; Q8IVT2; Q6PF18; Q96EL3; Q9UBB6; Q8NI38; Q13952-2; Q96IV0; Q08493-2; Q9NRD5; Q13526; Q9BUI4; Q9BT43; Q8WUA2; P54619; Q9UIG4; Q2TAL8; Q9UBE0; Q9UDX3; Q01105-2; O43699-3; A0AV02; Q5MJ68; Q9NZD8; Q05519-2; Q99469; Q9NUJ3; Q96FV9; Q9UKI8; Q86UE8; O75865-2; Q15642-2; Q969M7; P61086; Q14CS0; O94888; Q8N6Y0; Q3SXR9; Q9Y3C0; O96006; Q15973; Q86VK4-3; A0A384ME25; P63168; P63166\n",
      "Q15149\tP35637; P42858; P16144; Q14145\n",
      "O60313\tQ12983; Q5S007; Q9NTG7\n",
      "Q64237\t\n",
      "Q7Z3V4\t\n",
      "Q8N806\t\n",
      "Q9ES34\t\n",
      "\n",
      "86 / 86\n"
     ]
    }
   ],
   "source": [
    "import requests\n",
    "import re\n",
    "from requests.adapters import HTTPAdapter, Retry\n",
    "\n",
    "# Regular expression to find the next link for pagination\n",
    "re_next_link = re.compile(r'<(.+)>; rel=\"next\"')\n",
    "\n",
    "# Set up retries for HTTP requests\n",
    "retries = Retry(total=5, backoff_factor=0.25, status_forcelist=[500, 502, 503, 504])\n",
    "session = requests.Session()\n",
    "session.mount(\"https://\", HTTPAdapter(max_retries=retries))\n",
    "\n",
    "def get_next_link(headers):\n",
    "    \"\"\"Extract the next link for pagination from response headers.\"\"\"\n",
    "    if \"Link\" in headers:\n",
    "        match = re_next_link.match(headers[\"Link\"])\n",
    "        if match:\n",
    "            return match.group(1)\n",
    "\n",
    "def get_batch(batch_url):\n",
    "    \"\"\"Generator to yield batches of results from the UniProt API.\"\"\"\n",
    "    while batch_url:\n",
    "        response = session.get(batch_url)\n",
    "        response.raise_for_status()\n",
    "        print(response.text)\n",
    "        total = response.headers[\"x-total-results\"]\n",
    "        yield response, total\n",
    "        batch_url = get_next_link(response.headers)\n",
    "\n",
    "# Define the URL for the API request\n",
    "url = 'https://rest.uniprot.org/uniprotkb/search?fields=accession%2Ccc_interaction&format=tsv&query=Ptosis%20AND%20%28reviewed%3Atrue%29&size=500'\n",
    "\n",
    "# Dictionary to store interaction counts\n",
    "interactions = {}\n",
    "\n",
    "# Fetch and process batches of data\n",
    "for batch, total in get_batch(url):\n",
    "    for line in batch.text.splitlines()[1:]:\n",
    "        primaryAccession, interactsWith = line.split('\\t')\n",
    "        interactions[primaryAccession] = len(interactsWith.split(';')) if interactsWith else 0\n",
    "    print(f'{len(interactions)} / {total}')\n"
   ]
  },
  {
   "cell_type": "code",
   "execution_count": 16,
   "metadata": {},
   "outputs": [
    {
     "name": "stdout",
     "output_type": "stream",
     "text": [
      "dict_items([('P58012', 0), ('O95672', 0), ('Q86UP3', 0), ('Q9BXS0', 1), ('Q04844', 0), ('Q07001', 0), ('O14813', 3), ('Q9BUF5', 5), ('P11230', 1), ('P02585', 3), ('Q12887', 0), ('Q96BW9', 1), ('P55201', 10), ('A2IDD5', 1), ('Q8NCE2', 2), ('Q96JM2', 1), ('P02708', 0), ('P23759', 6), ('Q69YQ0', 6), ('Q9Y215', 2), ('Q56NI9', 4), ('Q96D09', 36), ('Q9UIW2', 0), ('Q5EBL4', 7), ('P13349', 26), ('P19971', 2), ('Q16572', 3), ('Q5ST30', 10), ('Q9Y561', 3), ('P20711', 1), ('Q99958', 8), ('Q9UQ13', 0), ('P24468', 1), ('Q6Q0C0', 2), ('Q7Z4S6', 4), ('Q13509', 3), ('Q13702', 6), ('O14908', 34), ('P55287', 0), ('Q5TAT6', 0), ('Q9H5I5', 0), ('Q9P273', 0), ('P07510', 24), ('Q13472', 2), ('Q93074', 5), ('Q96MF2', 40), ('Q18PE1', 1), ('Q8N9I0', 25), ('Q15772', 5), ('Q8IV48', 2), ('Q14004', 3), ('Q86U42', 2), ('P25106', 2), ('Q15326', 6), ('Q7LG56', 6), ('P82650', 0), ('P36776', 2), ('Q9GZV3', 0), ('P62140', 29), ('Q9BPX6', 6), ('O00499', 16), ('O15146', 3), ('P22626', 10), ('O75096', 1), ('P63261', 14), ('Q13698', 6), ('Q9Y4W6', 1), ('P60880', 11), ('Q13496', 6), ('Q9NYL2', 11), ('P28329', 102), ('Q9UM47', 3), ('P22681', 39), ('P61978', 117), ('P0DPK4', 217), ('P60709', 33), ('P04626', 85), ('P50570', 143), ('P35523', 4), ('P26367', 96), ('Q15149', 4), ('O60313', 3), ('Q64237', 0), ('Q7Z3V4', 0), ('Q8N806', 0), ('Q9ES34', 0)])\n"
     ]
    }
   ],
   "source": [
    "print(interactions.items())"
   ]
  },
  {
   "cell_type": "code",
   "execution_count": 17,
   "metadata": {},
   "outputs": [
    {
     "data": {
      "text/plain": [
       "[('P0DPK4', 217),\n",
       " ('P50570', 143),\n",
       " ('P61978', 117),\n",
       " ('P28329', 102),\n",
       " ('P26367', 96),\n",
       " ('P04626', 85),\n",
       " ('Q96MF2', 40),\n",
       " ('P22681', 39),\n",
       " ('Q96D09', 36),\n",
       " ('O14908', 34)]"
      ]
     },
     "execution_count": 17,
     "metadata": {},
     "output_type": "execute_result"
    }
   ],
   "source": [
    "sorted_interactions = sorted(interactions.items(), key=lambda item: item[1], reverse=True)\n",
    "sorted_interactions[:10]"
   ]
  },
  {
   "cell_type": "code",
   "execution_count": 20,
   "metadata": {},
   "outputs": [
    {
     "name": "stdout",
     "output_type": "stream",
     "text": [
      "Command failed. Error output:\n",
      "'reinvent' is not recognized as an internal or external command,\n",
      "operable program or batch file.\n",
      "\n"
     ]
    }
   ],
   "source": [
    "import subprocess\n",
    "\n",
    "# Example command to execute on Windows\n",
    "command = \"reinvent -l sampling.log sampling.toml\"\n",
    "\n",
    "# Run the command\n",
    "result = subprocess.run(command, shell=True, capture_output=True, text=True)\n",
    "\n",
    "# Check the result\n",
    "if result.returncode == 0:\n",
    "    print(\"Command executed successfully.\")\n",
    "    print(\"Output:\")\n",
    "    print(result.stdout)\n",
    "else:\n",
    "    print(\"Command failed. Error output:\")\n",
    "    print(result.stderr)\n"
   ]
  },
  {
   "cell_type": "code",
   "execution_count": 21,
   "metadata": {},
   "outputs": [
    {
     "name": "stdout",
     "output_type": "stream",
     "text": [
      "SMILES string for chembl378025: O=C1CCc2ccc(c(I)c2)Oc2cc(cc(Br)c2O)CCN1\n"
     ]
    }
   ],
   "source": [
    "import requests\n",
    "\n",
    "def chemblid_to_smiles(chembl_id):\n",
    "    url = f'https://www.ebi.ac.uk/chembl/api/data/molecule/{chembl_id}.json'\n",
    "    response = requests.get(url)\n",
    "    \n",
    "    if response.status_code == 200:\n",
    "        data = response.json()\n",
    "        return data.get('molecule_structures', {}).get('canonical_smiles', 'SMILES not found')\n",
    "    else:\n",
    "        return 'Error fetching data'\n",
    "\n",
    "if __name__ == '__main__':\n",
    "    chembl_id = input(\"Enter the ChEMBL ID: \")\n",
    "    smiles = chemblid_to_smiles(chembl_id)\n",
    "    print(f'SMILES string for {chembl_id}: {smiles}')\n"
   ]
  },
  {
   "cell_type": "code",
   "execution_count": null,
   "metadata": {},
   "outputs": [],
   "source": []
  }
 ],
 "metadata": {
  "kernelspec": {
   "display_name": "Python 3",
   "language": "python",
   "name": "python3"
  },
  "language_info": {
   "codemirror_mode": {
    "name": "ipython",
    "version": 3
   },
   "file_extension": ".py",
   "mimetype": "text/x-python",
   "name": "python",
   "nbconvert_exporter": "python",
   "pygments_lexer": "ipython3",
   "version": "3.11.9"
  }
 },
 "nbformat": 4,
 "nbformat_minor": 2
}
